{
  "nbformat": 4,
  "nbformat_minor": 0,
  "metadata": {
    "colab": {
      "name": "AML HW5 Question-3.1.ipynb",
      "version": "0.3.2",
      "provenance": [],
      "collapsed_sections": []
    },
    "kernelspec": {
      "name": "python3",
      "display_name": "Python 3"
    },
    "accelerator": "GPU"
  },
  "cells": [
    {
      "metadata": {
        "id": "uyPLVZWhoCJy",
        "colab_type": "text"
      },
      "cell_type": "markdown",
      "source": [
        "# HW 5 Task 3.1"
      ]
    },
    {
      "metadata": {
        "id": "W2oRh5iUPm4Q",
        "colab_type": "code",
        "colab": {}
      },
      "cell_type": "code",
      "source": [
        "import matplotlib.pyplot as plt\n",
        "import cv2\n",
        "import glob\n",
        "import numpy as np\n",
        "import pandas as pd\n",
        "from keras.models import Model, Sequential\n",
        "from keras import optimizers\n",
        "from keras import regularizers\n",
        "from keras.utils import to_categorical\n",
        "from keras.wrappers.scikit_learn import KerasClassifier\n",
        "from keras.layers import Input, Dense, Activation, Dropout, Flatten,BatchNormalization, Conv2D, MaxPooling2D\n",
        "from keras.datasets import fashion_mnist\n",
        "from sklearn.model_selection import train_test_split, GridSearchCV, StratifiedShuffleSplit\n",
        "from imblearn.under_sampling import RandomUnderSampler"
      ],
      "execution_count": 0,
      "outputs": []
    },
    {
      "metadata": {
        "id": "ZJEBbmn1nmU5",
        "colab_type": "text"
      },
      "cell_type": "markdown",
      "source": [
        "### Read in all images with class 0"
      ]
    },
    {
      "metadata": {
        "id": "9852ayaG-MK8",
        "colab_type": "code",
        "colab": {}
      },
      "cell_type": "code",
      "source": [
        "img_0 = np.array([cv2.resize(cv2.imread(file), (50,50), interpolation=cv2.INTER_CUBIC) for file in glob.glob(\"/content/*/0/*.png\")])"
      ],
      "execution_count": 0,
      "outputs": []
    },
    {
      "metadata": {
        "id": "KWd3zoeRLusf",
        "colab_type": "code",
        "outputId": "e8f133d0-0ac3-43d9-e667-8a096b488df5",
        "colab": {
          "base_uri": "https://localhost:8080/",
          "height": 34
        }
      },
      "cell_type": "code",
      "source": [
        "img_0.shape"
      ],
      "execution_count": 3,
      "outputs": [
        {
          "output_type": "execute_result",
          "data": {
            "text/plain": [
              "(198738, 50, 50, 3)"
            ]
          },
          "metadata": {
            "tags": []
          },
          "execution_count": 3
        }
      ]
    },
    {
      "metadata": {
        "id": "F75AdFT5308X",
        "colab_type": "code",
        "outputId": "d5202865-6022-4fa8-ecd6-f5bfcb2b7e76",
        "colab": {
          "base_uri": "https://localhost:8080/",
          "height": 286
        }
      },
      "cell_type": "code",
      "source": [
        "plt.imshow(img_0[0])"
      ],
      "execution_count": 4,
      "outputs": [
        {
          "output_type": "execute_result",
          "data": {
            "text/plain": [
              "<matplotlib.image.AxesImage at 0x7fcf27de4b70>"
            ]
          },
          "metadata": {
            "tags": []
          },
          "execution_count": 4
        },
        {
          "output_type": "display_data",
          "data": {
            "image/png": "[encoded data removed]",
            "text/plain": [
              "<Figure size 432x288 with 1 Axes>"
            ]
          },
          "metadata": {
            "tags": []
          }
        }
      ]
    },
    {
      "metadata": {
        "id": "HXwyCKHynvgg",
        "colab_type": "text"
      },
      "cell_type": "markdown",
      "source": [
        "### Read in all images with class 1"
      ]
    },
    {
      "metadata": {
        "id": "LQ_5LQ-mQMYT",
        "colab_type": "code",
        "colab": {}
      },
      "cell_type": "code",
      "source": [
        "img_1 = np.array([cv2.resize(cv2.imread(file), (50,50), interpolation=cv2.INTER_CUBIC) for file in glob.glob(\"/content/*/1/*.png\")])"
      ],
      "execution_count": 0,
      "outputs": []
    },
    {
      "metadata": {
        "id": "nE1AkIzgRcmK",
        "colab_type": "code",
        "outputId": "06971dcf-2e7e-463d-b32e-5c2b59fc4653",
        "colab": {
          "base_uri": "https://localhost:8080/",
          "height": 34
        }
      },
      "cell_type": "code",
      "source": [
        "img_1.shape"
      ],
      "execution_count": 6,
      "outputs": [
        {
          "output_type": "execute_result",
          "data": {
            "text/plain": [
              "(78786, 50, 50, 3)"
            ]
          },
          "metadata": {
            "tags": []
          },
          "execution_count": 6
        }
      ]
    },
    {
      "metadata": {
        "id": "ZJk-3r2Unxz8",
        "colab_type": "text"
      },
      "cell_type": "markdown",
      "source": [
        "### Combine the data and set its labels y according to the class"
      ]
    },
    {
      "metadata": {
        "id": "S1idaSQItGHM",
        "colab_type": "code",
        "colab": {}
      },
      "cell_type": "code",
      "source": [
        "y = []\n",
        "X = []"
      ],
      "execution_count": 0,
      "outputs": []
    },
    {
      "metadata": {
        "id": "Boo_lBZEBcof",
        "colab_type": "code",
        "colab": {}
      },
      "cell_type": "code",
      "source": [
        "y = np.concatenate((np.repeat(0,img_0.shape[0]),np.repeat(1,img_1.shape[0])))"
      ],
      "execution_count": 0,
      "outputs": []
    },
    {
      "metadata": {
        "id": "h6JLX5Z4Axqw",
        "colab_type": "code",
        "colab": {}
      },
      "cell_type": "code",
      "source": [
        "X = np.concatenate((img_0,img_1))"
      ],
      "execution_count": 0,
      "outputs": []
    },
    {
      "metadata": {
        "id": "ZEbYe8fVW08h",
        "colab_type": "code",
        "outputId": "7425351b-defd-4cb9-bd7f-f12f2008d84c",
        "colab": {
          "base_uri": "https://localhost:8080/",
          "height": 34
        }
      },
      "cell_type": "code",
      "source": [
        "X.shape"
      ],
      "execution_count": 10,
      "outputs": [
        {
          "output_type": "execute_result",
          "data": {
            "text/plain": [
              "(277524, 50, 50, 3)"
            ]
          },
          "metadata": {
            "tags": []
          },
          "execution_count": 10
        }
      ]
    },
    {
      "metadata": {
        "id": "p9OSKfzEq2sS",
        "colab_type": "code",
        "colab": {
          "base_uri": "https://localhost:8080/",
          "height": 295
        },
        "outputId": "588fa00f-6b5f-4849-a489-ae639f806973"
      },
      "cell_type": "code",
      "source": [
        "plt.bar(pd.Series(y).value_counts().keys(), pd.Series(y).value_counts().values)\n",
        "plt.xticks([0,1])\n",
        "plt.title('Proportion of classes originally')\n",
        "plt.xlabel('Class')\n",
        "plt.ylabel('Count of values')\n",
        "plt.show()"
      ],
      "execution_count": 11,
      "outputs": [
        {
          "output_type": "display_data",
          "data": {
            "image/png": "[encoded data removed]",
            "text/plain": [
              "<Figure size 432x288 with 1 Axes>"
            ]
          },
          "metadata": {
            "tags": []
          }
        }
      ]
    },
    {
      "metadata": {
        "id": "mlpwlm7in49c",
        "colab_type": "text"
      },
      "cell_type": "markdown",
      "source": [
        "#### We can see the the data is imbalanced - so we perform random undersampling to balance it. As X has 4 dimensions, we first flatten it and then undersample and then reshape it again"
      ]
    },
    {
      "metadata": {
        "id": "XwyDpwu-XHx3",
        "colab_type": "code",
        "colab": {}
      },
      "cell_type": "code",
      "source": [
        "X_flat = X.reshape(X.shape[0], X.shape[1]*X.shape[2]*X.shape[3])"
      ],
      "execution_count": 0,
      "outputs": []
    },
    {
      "metadata": {
        "id": "dSII7-1TYBOK",
        "colab_type": "code",
        "outputId": "387491f7-ffe0-4adc-85c7-ae6feddf5d52",
        "colab": {
          "base_uri": "https://localhost:8080/",
          "height": 34
        }
      },
      "cell_type": "code",
      "source": [
        "X_flat.shape"
      ],
      "execution_count": 13,
      "outputs": [
        {
          "output_type": "execute_result",
          "data": {
            "text/plain": [
              "(277524, 7500)"
            ]
          },
          "metadata": {
            "tags": []
          },
          "execution_count": 13
        }
      ]
    },
    {
      "metadata": {
        "id": "MyVjiqwEpk4V",
        "colab_type": "code",
        "colab": {}
      },
      "cell_type": "code",
      "source": [
        "rus = RandomUnderSampler(ratio='auto', random_state=0)\n",
        "X_us, y_us = rus.fit_sample(X_flat, y)"
      ],
      "execution_count": 0,
      "outputs": []
    },
    {
      "metadata": {
        "id": "cmtmXUGt4Imm",
        "colab_type": "code",
        "colab": {}
      },
      "cell_type": "code",
      "source": [
        "X_us = X_us.reshape((X_us.shape[0], X.shape[1], X.shape[2], X.shape[3]))"
      ],
      "execution_count": 0,
      "outputs": []
    },
    {
      "metadata": {
        "id": "JNnXqNe8ryOR",
        "colab_type": "text"
      },
      "cell_type": "markdown",
      "source": [
        "Observe that images are still intact"
      ]
    },
    {
      "metadata": {
        "id": "cSVTdKlpekj2",
        "colab_type": "code",
        "outputId": "3bad4d33-c51c-41fd-faee-7569ebee5ec4",
        "colab": {
          "base_uri": "https://localhost:8080/",
          "height": 286
        }
      },
      "cell_type": "code",
      "source": [
        "plt.imshow(X_us[35])"
      ],
      "execution_count": 16,
      "outputs": [
        {
          "output_type": "execute_result",
          "data": {
            "text/plain": [
              "<matplotlib.image.AxesImage at 0x7fcf27ee66d8>"
            ]
          },
          "metadata": {
            "tags": []
          },
          "execution_count": 16
        },
        {
          "output_type": "display_data",
          "data": {
            "image/png": "[encoded data removed]",
            "text/plain": [
              "<Figure size 432x288 with 1 Axes>"
            ]
          },
          "metadata": {
            "tags": []
          }
        }
      ]
    },
    {
      "metadata": {
        "id": "29eM7ZElYbKV",
        "colab_type": "code",
        "outputId": "3013dd6b-774f-4084-d05b-c85819e015f5",
        "colab": {
          "base_uri": "https://localhost:8080/",
          "height": 68
        }
      },
      "cell_type": "code",
      "source": [
        "pd.Series(y_us).value_counts()"
      ],
      "execution_count": 17,
      "outputs": [
        {
          "output_type": "execute_result",
          "data": {
            "text/plain": [
              "1    78786\n",
              "0    78786\n",
              "dtype: int64"
            ]
          },
          "metadata": {
            "tags": []
          },
          "execution_count": 17
        }
      ]
    },
    {
      "metadata": {
        "id": "CrNoNLXHr2N-",
        "colab_type": "code",
        "colab": {
          "base_uri": "https://localhost:8080/",
          "height": 295
        },
        "outputId": "986c66ed-e3df-46bf-b4db-30f8499f9901"
      },
      "cell_type": "code",
      "source": [
        "plt.bar(pd.Series(y_us).value_counts().keys(), pd.Series(y_us).value_counts().values)\n",
        "plt.xticks([0,1])\n",
        "plt.title('Proportion of classes after undersampling')\n",
        "plt.xlabel('Class')\n",
        "plt.ylabel('Count of values')\n",
        "plt.show()"
      ],
      "execution_count": 18,
      "outputs": [
        {
          "output_type": "display_data",
          "data": {
            "image/png": "[encoded data removed]",
            "text/plain": [
              "<Figure size 432x288 with 1 Axes>"
            ]
          },
          "metadata": {
            "tags": []
          }
        }
      ]
    },
    {
      "metadata": {
        "id": "KnQTkhSWsISI",
        "colab_type": "text"
      },
      "cell_type": "markdown",
      "source": [
        "#### Now our data is balanced"
      ]
    },
    {
      "metadata": {
        "id": "Gs3HXiW9sMlU",
        "colab_type": "text"
      },
      "cell_type": "markdown",
      "source": [
        "### Take a subsample of the balanced dataset (20% of it) as the total data is too large to train a network on and it causes the server to crash"
      ]
    },
    {
      "metadata": {
        "id": "vrV900L14LAC",
        "colab_type": "code",
        "colab": {}
      },
      "cell_type": "code",
      "source": [
        "X_sub, X_sub_test, y_sub, y_sub_test = train_test_split(X_us, y_us, train_size=0.05, test_size=0.8, random_state=0)"
      ],
      "execution_count": 0,
      "outputs": []
    },
    {
      "metadata": {
        "id": "nJFQ1Ugesibp",
        "colab_type": "text"
      },
      "cell_type": "markdown",
      "source": [
        "### Split the subsampled data into training and test set"
      ]
    },
    {
      "metadata": {
        "id": "oRwx4w1FyIbC",
        "colab_type": "code",
        "colab": {}
      },
      "cell_type": "code",
      "source": [
        "X_train, X_test, y_train, y_test = train_test_split(X_sub, y_sub, random_state=0)"
      ],
      "execution_count": 0,
      "outputs": []
    },
    {
      "metadata": {
        "id": "Iy4ncJwt3mTy",
        "colab_type": "code",
        "outputId": "3ef1816b-fca5-426a-e0a6-e02cef830a24",
        "colab": {
          "base_uri": "https://localhost:8080/",
          "height": 34
        }
      },
      "cell_type": "code",
      "source": [
        "X_train.shape"
      ],
      "execution_count": 103,
      "outputs": [
        {
          "output_type": "execute_result",
          "data": {
            "text/plain": [
              "(5908, 50, 50, 3)"
            ]
          },
          "metadata": {
            "tags": []
          },
          "execution_count": 103
        }
      ]
    },
    {
      "metadata": {
        "id": "vlz7OD1Y4wuJ",
        "colab_type": "code",
        "outputId": "11aaa0c7-453e-4d6a-b316-8c9fa53cb638",
        "colab": {
          "base_uri": "https://localhost:8080/",
          "height": 34
        }
      },
      "cell_type": "code",
      "source": [
        "X_test.shape"
      ],
      "execution_count": 104,
      "outputs": [
        {
          "output_type": "execute_result",
          "data": {
            "text/plain": [
              "(1970, 50, 50, 3)"
            ]
          },
          "metadata": {
            "tags": []
          },
          "execution_count": 104
        }
      ]
    },
    {
      "metadata": {
        "id": "lmRuYz94sp9z",
        "colab_type": "text"
      },
      "cell_type": "markdown",
      "source": [
        "### One hot encode y"
      ]
    },
    {
      "metadata": {
        "id": "elNXF9V9ylql",
        "colab_type": "code",
        "colab": {}
      },
      "cell_type": "code",
      "source": [
        "dummy_y_train = to_categorical(y_train, num_classes=2)\n",
        "dummy_y_test = to_categorical(y_test, num_classes=2)"
      ],
      "execution_count": 0,
      "outputs": []
    },
    {
      "metadata": {
        "id": "QI0Hshz8styw",
        "colab_type": "text"
      },
      "cell_type": "markdown",
      "source": [
        "### Divide X train and test by 255 to ensure values are between 0 and 1"
      ]
    },
    {
      "metadata": {
        "id": "Ewow2Lh8R1Al",
        "colab_type": "code",
        "colab": {}
      },
      "cell_type": "code",
      "source": [
        "X_train = X_train/255"
      ],
      "execution_count": 0,
      "outputs": []
    },
    {
      "metadata": {
        "id": "nykCMdGar1HH",
        "colab_type": "code",
        "colab": {}
      },
      "cell_type": "code",
      "source": [
        "X_test = X_test/255"
      ],
      "execution_count": 0,
      "outputs": []
    },
    {
      "metadata": {
        "id": "x8D2JAxFs10u",
        "colab_type": "text"
      },
      "cell_type": "markdown",
      "source": [
        "### Create a convolutional NN with 6 hidden layers (3 convolution and 3 max pooling)"
      ]
    },
    {
      "metadata": {
        "id": "H8FVQxN7oNwa",
        "colab_type": "code",
        "colab": {}
      },
      "cell_type": "code",
      "source": [
        "cnn_small_bn = Sequential()\n",
        "cnn_small_bn.add(Conv2D(8, kernel_size=(3, 3),\n",
        "                 input_shape=(50,50,3)))\n",
        "cnn_small_bn.add(Activation(\"relu\"))\n",
        "cnn_small_bn.add(BatchNormalization())\n",
        "cnn_small_bn.add(MaxPooling2D(pool_size=(2, 2)))\n",
        "cnn_small_bn.add(Conv2D(8, (3, 3)))\n",
        "cnn_small_bn.add(Activation(\"relu\"))\n",
        "cnn_small_bn.add(BatchNormalization())\n",
        "cnn_small_bn.add(MaxPooling2D(pool_size=(2, 2)))\n",
        "cnn_small_bn.add(Dropout(0.5))\n",
        "cnn_small_bn.add(Conv2D(8, (3, 3)))\n",
        "cnn_small_bn.add(Activation(\"relu\"))\n",
        "cnn_small_bn.add(BatchNormalization())\n",
        "cnn_small_bn.add(MaxPooling2D(pool_size=(2, 2)))\n",
        "cnn_small_bn.add(Dropout(0.5))\n",
        "cnn_small_bn.add(Flatten())\n",
        "cnn_small_bn.add(Dense(2, activation='softmax'))"
      ],
      "execution_count": 0,
      "outputs": []
    },
    {
      "metadata": {
        "id": "T4kv38Hly8kt",
        "colab_type": "code",
        "colab": {}
      },
      "cell_type": "code",
      "source": [
        "cnn_small_bn.compile(\"adam\", \"categorical_crossentropy\", metrics=['accuracy'])"
      ],
      "execution_count": 0,
      "outputs": []
    },
    {
      "metadata": {
        "id": "TUXymUWOzoCj",
        "colab_type": "code",
        "outputId": "a75630ae-1f2d-4902-8fdb-452593afcd48",
        "colab": {
          "base_uri": "https://localhost:8080/",
          "height": 714
        }
      },
      "cell_type": "code",
      "source": [
        "fitted = cnn_small_bn.fit(X_train, dummy_y_train, batch_size=128, epochs=20, verbose=1, validation_split=0.2)"
      ],
      "execution_count": 147,
      "outputs": [
        {
          "output_type": "stream",
          "text": [
            "Train on 4726 samples, validate on 1182 samples\n",
            "Epoch 1/20\n",
            "4726/4726 [==============================] - 6s 1ms/step - loss: 1.2003 - acc: 0.6039 - val_loss: 1.1189 - val_acc: 0.5694\n",
            "Epoch 2/20\n",
            "4726/4726 [==============================] - 1s 129us/step - loss: 0.8213 - acc: 0.7084 - val_loss: 0.6834 - val_acc: 0.7513\n",
            "Epoch 3/20\n",
            "4726/4726 [==============================] - 1s 133us/step - loss: 0.7534 - acc: 0.7266 - val_loss: 0.8159 - val_acc: 0.6624\n",
            "Epoch 4/20\n",
            "4726/4726 [==============================] - 1s 138us/step - loss: 0.6658 - acc: 0.7440 - val_loss: 0.5380 - val_acc: 0.7547\n",
            "Epoch 5/20\n",
            "4726/4726 [==============================] - 1s 137us/step - loss: 0.6199 - acc: 0.7495 - val_loss: 0.6592 - val_acc: 0.7276\n",
            "Epoch 6/20\n",
            "4726/4726 [==============================] - 1s 135us/step - loss: 0.5868 - acc: 0.7598 - val_loss: 0.5918 - val_acc: 0.7352\n",
            "Epoch 7/20\n",
            "4726/4726 [==============================] - 1s 141us/step - loss: 0.5429 - acc: 0.7725 - val_loss: 0.5092 - val_acc: 0.7648\n",
            "Epoch 8/20\n",
            "4726/4726 [==============================] - 1s 138us/step - loss: 0.5247 - acc: 0.7810 - val_loss: 0.4846 - val_acc: 0.7733\n",
            "Epoch 9/20\n",
            "4726/4726 [==============================] - 1s 139us/step - loss: 0.5205 - acc: 0.7829 - val_loss: 0.4667 - val_acc: 0.7817\n",
            "Epoch 10/20\n",
            "4726/4726 [==============================] - 1s 140us/step - loss: 0.4889 - acc: 0.7871 - val_loss: 0.4635 - val_acc: 0.7843\n",
            "Epoch 11/20\n",
            "4726/4726 [==============================] - 1s 138us/step - loss: 0.4803 - acc: 0.7907 - val_loss: 0.4749 - val_acc: 0.7775\n",
            "Epoch 12/20\n",
            "4726/4726 [==============================] - 1s 147us/step - loss: 0.4664 - acc: 0.7996 - val_loss: 0.4597 - val_acc: 0.7851\n",
            "Epoch 13/20\n",
            "4726/4726 [==============================] - 1s 142us/step - loss: 0.4627 - acc: 0.7994 - val_loss: 0.4964 - val_acc: 0.7716\n",
            "Epoch 14/20\n",
            "4726/4726 [==============================] - 1s 142us/step - loss: 0.4518 - acc: 0.8003 - val_loss: 0.4553 - val_acc: 0.7885\n",
            "Epoch 15/20\n",
            "4726/4726 [==============================] - 1s 142us/step - loss: 0.4537 - acc: 0.8055 - val_loss: 0.4694 - val_acc: 0.7868\n",
            "Epoch 16/20\n",
            "4726/4726 [==============================] - 1s 139us/step - loss: 0.4451 - acc: 0.8083 - val_loss: 0.4659 - val_acc: 0.7893\n",
            "Epoch 17/20\n",
            "4726/4726 [==============================] - 1s 137us/step - loss: 0.4447 - acc: 0.8081 - val_loss: 0.4915 - val_acc: 0.7758\n",
            "Epoch 18/20\n",
            "4726/4726 [==============================] - 1s 131us/step - loss: 0.4440 - acc: 0.8079 - val_loss: 0.4763 - val_acc: 0.7902\n",
            "Epoch 19/20\n",
            "4726/4726 [==============================] - 1s 128us/step - loss: 0.4420 - acc: 0.8068 - val_loss: 0.4691 - val_acc: 0.7893\n",
            "Epoch 20/20\n",
            "4726/4726 [==============================] - 1s 128us/step - loss: 0.4421 - acc: 0.8087 - val_loss: 0.4587 - val_acc: 0.7970\n"
          ],
          "name": "stdout"
        }
      ]
    },
    {
      "metadata": {
        "id": "uhmWJ2_mOpkf",
        "colab_type": "code",
        "outputId": "0e407c71-0b2c-47e4-d94d-1853395b1d50",
        "colab": {
          "base_uri": "https://localhost:8080/",
          "height": 500
        }
      },
      "cell_type": "code",
      "source": [
        "df = pd.DataFrame(fitted.history)\n",
        "plt.figure(figsize=(12,8))\n",
        "plt.xlabel('Epochs')\n",
        "\n",
        "ax1 = df['loss'].plot(label='Loss')\n",
        "ax1 = df['val_loss'].plot(label='Val Loss')\n",
        "ax2 = df['acc'].plot(secondary_y=True, label='Accuracy')\n",
        "ax2 = df['val_acc'].plot(secondary_y=True, label='Val Accuracy')\n",
        "\n",
        "ax1.set_ylabel('Loss')\n",
        "# ax1.set_yticks(np.arange(0,2,0.1))\n",
        "ax2.set_ylabel('Accuracy')\n",
        "# ax2.set_yticks(np.arange(0,1,0.1))\n",
        "ax1.legend(loc=2)\n",
        "ax2.legend(loc=1)\n",
        "\n",
        "plt.show()"
      ],
      "execution_count": 148,
      "outputs": [
        {
          "output_type": "display_data",
          "data": {
            "image/png": "[encoded data removed]",
            "text/plain": [
              "<Figure size 864x576 with 2 Axes>"
            ]
          },
          "metadata": {
            "tags": []
          }
        }
      ]
    },
    {
      "metadata": {
        "id": "NMfsVQmz5MNC",
        "colab_type": "text"
      },
      "cell_type": "markdown",
      "source": [
        "We can see that the training accuracy is 0.80 and validation accuracy is 0.79"
      ]
    },
    {
      "metadata": {
        "id": "2SVepPzqufMK",
        "colab_type": "code",
        "colab": {}
      },
      "cell_type": "code",
      "source": [
        ""
      ],
      "execution_count": 0,
      "outputs": []
    }
  ]
}